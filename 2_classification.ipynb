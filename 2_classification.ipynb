{
 "cells": [
  {
   "cell_type": "markdown",
   "id": "64b9237f",
   "metadata": {},
   "source": [
    "what is classification -->\n",
    "\n",
    "categorizing a given set of data into classes \n",
    "\n",
    "-- can be perform on both structured and unstructured data\n",
    "\n"
   ]
  },
  {
   "cell_type": "code",
   "execution_count": 3,
   "id": "cf2ce5ce",
   "metadata": {},
   "outputs": [],
   "source": [
    "import numpy as np\n",
    "x= np.array([[0,0],[0,1],[1,0],[1,1]])\n",
    "y= np.array([0,1,1,1])"
   ]
  },
  {
   "cell_type": "code",
   "execution_count": 4,
   "id": "9e1e68c5",
   "metadata": {},
   "outputs": [
    {
     "data": {
      "text/plain": [
       "array([[0, 0],\n",
       "       [0, 1],\n",
       "       [1, 0],\n",
       "       [1, 1]])"
      ]
     },
     "execution_count": 4,
     "metadata": {},
     "output_type": "execute_result"
    }
   ],
   "source": [
    "x"
   ]
  },
  {
   "cell_type": "code",
   "execution_count": 5,
   "id": "da1a9e66",
   "metadata": {},
   "outputs": [],
   "source": [
    "w = np.array([1,1])"
   ]
  },
  {
   "cell_type": "code",
   "execution_count": 6,
   "id": "e14387a4",
   "metadata": {},
   "outputs": [],
   "source": [
    "b = -0.5"
   ]
  },
  {
   "cell_type": "code",
   "execution_count": 9,
   "id": "3613e0b2",
   "metadata": {},
   "outputs": [],
   "source": [
    "def activation(z):\n",
    "    if z >=0:\n",
    "        return 1\n",
    "    else:\n",
    "        return 0"
   ]
  },
  {
   "cell_type": "code",
   "execution_count": 10,
   "id": "e9afa4e1",
   "metadata": {},
   "outputs": [],
   "source": [
    "pred =[]\n",
    "for a in x:\n",
    "    y_hat = np.dot(a,w) + b\n",
    "    pred.append(activation(y_hat))"
   ]
  },
  {
   "cell_type": "code",
   "execution_count": 11,
   "id": "745c33a0",
   "metadata": {},
   "outputs": [
    {
     "data": {
      "text/plain": [
       "[0, 1, 1, 1]"
      ]
     },
     "execution_count": 11,
     "metadata": {},
     "output_type": "execute_result"
    }
   ],
   "source": [
    "pred"
   ]
  },
  {
   "cell_type": "code",
   "execution_count": 12,
   "id": "1ecdac5b",
   "metadata": {},
   "outputs": [],
   "source": [
    "import math"
   ]
  },
  {
   "cell_type": "code",
   "execution_count": 13,
   "id": "4d369023",
   "metadata": {},
   "outputs": [],
   "source": [
    "epochs = 100\n",
    "alpha= 0.2\n",
    "\n"
   ]
  },
  {
   "cell_type": "code",
   "execution_count": 15,
   "id": "4c6ef040",
   "metadata": {},
   "outputs": [],
   "source": [
    "import random"
   ]
  },
  {
   "cell_type": "code",
   "execution_count": 22,
   "id": "41ed8c0a",
   "metadata": {},
   "outputs": [],
   "source": [
    "w0 =np.random.random()\n",
    "w1 =np.random.random()\n",
    "w2 = np.random.random()"
   ]
  },
  {
   "cell_type": "code",
   "execution_count": 21,
   "id": "28a3200a",
   "metadata": {},
   "outputs": [],
   "source": [
    "del_w0=1\n",
    "del_w1=1\n",
    "del_w2=1"
   ]
  },
  {
   "cell_type": "code",
   "execution_count": 23,
   "id": "4df352d3",
   "metadata": {},
   "outputs": [],
   "source": [
    "train_data_temp=[[0,0,0],[0,0,1],[0,1,0],[0,1,1],[1,0,0],[1,0,1],[1,1,0],[1,1,1]]\n",
    "train_data=np.asarray(train_data_temp)\n",
    "op =np.array([0,1,1,1,1,1,1,1])"
   ]
  },
  {
   "cell_type": "code",
   "execution_count": 24,
   "id": "67927ec6",
   "metadata": {},
   "outputs": [
    {
     "data": {
      "text/plain": [
       "array([[0, 0, 0],\n",
       "       [0, 0, 1],\n",
       "       [0, 1, 0],\n",
       "       [0, 1, 1],\n",
       "       [1, 0, 0],\n",
       "       [1, 0, 1],\n",
       "       [1, 1, 0],\n",
       "       [1, 1, 1]])"
      ]
     },
     "execution_count": 24,
     "metadata": {},
     "output_type": "execute_result"
    }
   ],
   "source": [
    "train_data"
   ]
  },
  {
   "cell_type": "code",
   "execution_count": 25,
   "id": "0801d442",
   "metadata": {},
   "outputs": [
    {
     "data": {
      "text/plain": [
       "array([0, 1, 1, 1, 1, 1, 1, 1])"
      ]
     },
     "execution_count": 25,
     "metadata": {},
     "output_type": "execute_result"
    }
   ],
   "source": [
    "op"
   ]
  },
  {
   "cell_type": "code",
   "execution_count": 26,
   "id": "94def2ad",
   "metadata": {},
   "outputs": [],
   "source": [
    "y = (x*w) + b"
   ]
  },
  {
   "cell_type": "code",
   "execution_count": 28,
   "id": "2144bf12",
   "metadata": {},
   "outputs": [
    {
     "name": "stdout",
     "output_type": "stream",
     "text": [
      "final weights: 0.48873267188413594 0.1447913409621644 0.3627952094210174\n"
     ]
    }
   ],
   "source": [
    "bias =0\n",
    "for i in range(epochs):\n",
    "    j=0\n",
    "    for x in train_data:\n",
    "        y_hat = (x[0] * w0) + (x[1] * w1) + (x[2] * w2) + bias\n",
    "        \n",
    "        if y_hat>=0:\n",
    "            act =1\n",
    "        else:\n",
    "            act =0\n",
    "        err =op[j] - act\n",
    "        \n",
    "        del_w0=alpha*x[0]*err\n",
    "        del_w1=alpha*x[1]*err\n",
    "        del_w2=alpha*x[2]*err\n",
    "\n",
    "        w0 += del_w0\n",
    "        w1 += del_w1\n",
    "        w2 += del_w2\n",
    "\n",
    "        j += 1\n",
    "        # print(\"epoch:\", i, \"sample:\", j, \"weights:\", w0, w1, w2)\n",
    "\n",
    "print(\"final weights:\", w0, w1, w2)"
   ]
  },
  {
   "cell_type": "markdown",
   "id": "d4f249ae",
   "metadata": {},
   "source": [
    "Binary classification \n",
    "\n",
    "-- requires two classes , one in normal state and other in aberrant state\n",
    "\n"
   ]
  },
  {
   "cell_type": "markdown",
   "id": "8a5a72c8",
   "metadata": {},
   "source": [
    "logistic Regression"
   ]
  },
  {
   "cell_type": "code",
   "execution_count": null,
   "id": "ff9ea2f4",
   "metadata": {},
   "outputs": [],
   "source": []
  }
 ],
 "metadata": {
  "kernelspec": {
   "display_name": "Python 3",
   "language": "python",
   "name": "python3"
  },
  "language_info": {
   "codemirror_mode": {
    "name": "ipython",
    "version": 3
   },
   "file_extension": ".py",
   "mimetype": "text/x-python",
   "name": "python",
   "nbconvert_exporter": "python",
   "pygments_lexer": "ipython3",
   "version": "3.13.5"
  }
 },
 "nbformat": 4,
 "nbformat_minor": 5
}
